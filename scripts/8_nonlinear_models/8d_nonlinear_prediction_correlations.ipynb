{
 "cells": [
  {
   "cell_type": "markdown",
   "metadata": {},
   "source": [
    "# Correlations between predictions of Linear vs. Nonlinear Regression Models\n",
    "\n",
    "\n",
    "Paul A.  Bloom, January 2020\n",
    "\n",
    "This notebook compares predicted values on a test set for random forest, support vector, ridge, and ensemble regression models fit to the same training set to evaluate the similarity of their predictions. It outputs a correlation matrix plot of the predictions on the test set."
   ]
  },
  {
   "cell_type": "markdown",
   "metadata": {},
   "source": [
    "# Load libraries"
   ]
  },
  {
   "cell_type": "code",
   "execution_count": 1,
   "metadata": {},
   "outputs": [],
   "source": [
    "import pandas as pd\n",
    "import numpy as np\n",
    "import sklearn as sk\n",
    "from sklearn.model_selection import train_test_split\n",
    "from sklearn.model_selection import KFold\n",
    "from sklearn.svm import SVR\n",
    "from sklearn.model_selection import GridSearchCV\n",
    "from sklearn.ensemble import RandomForestRegressor\n",
    "from sklearn.ensemble import VotingRegressor\n",
    "from sklearn.preprocessing import scale\n",
    "from sklearn.metrics import accuracy_score\n",
    "import seaborn as sns\n",
    "import matplotlib.pyplot as plt\n",
    "from sklearn.metrics import r2_score\n",
    "from sklearn.linear_model import Ridge"
   ]
  },
  {
   "cell_type": "markdown",
   "metadata": {},
   "source": [
    "# Run regression models on SCARED-P\n",
    "\n",
    "\n",
    "- Run random forest regression, ridge regression, support vector regression, and ensemble models to compare their predictions"
   ]
  },
  {
   "cell_type": "code",
   "execution_count": 2,
   "metadata": {},
   "outputs": [],
   "source": [
    "# Load in HBN data\n",
    "hbn = pd.read_csv('../../cleanData/fullHBN.csv')\n",
    "\n",
    "# drop extra variables and NAs\n",
    "hbn = hbn.drop(['Identifiers', 'scaredSumChild', 'scaredBinChild', 'ksadsBin','scaredBinParent','ageCenter','cbclGISum'], 1).dropna(axis = 0)\n",
    "hbn.reset_index(inplace = True, drop = True)\n",
    "X = hbn.drop(['scaredSumParent'], axis = 1)\n",
    "\n",
    "# scale\n",
    "scaler = sk.preprocessing.StandardScaler().fit(X)\n",
    "X_columns = X.columns\n",
    "X = scaler.transform(X)\n",
    "y = hbn['scaredSumParent']\n",
    "hbn.head()\n",
    "\n",
    "# Params for random forest tuning\n",
    "max_depths = [2,3]\n",
    "max_features = [2,3]\n",
    "min_samps = [10,15,20]\n",
    "\n",
    "param_grid_forest = [{'max_features': max_features,\n",
    "               'max_depth': max_depths,\n",
    "                'min_samples_leaf': min_samps}]\n",
    "\n",
    "\n",
    "\n",
    "#T rain/test split and save scores of each model\n",
    "X_train, X_test, y_train, y_test = train_test_split(X, y, test_size = .25, \n",
    "                                                    random_state = 340183)\n",
    "\n",
    "# Set up models\n",
    "forest_reg =  RandomForestRegressor(n_estimators = 50)\n",
    "svr_reg = SVR(kernel = 'rbf', gamma = 'auto')\n",
    "ridge_reg = Ridge()\n",
    "\n",
    "# CV for forest \n",
    "forest_cv = GridSearchCV(forest_reg, param_grid_forest, cv = 3) \n",
    "\n",
    "# Voting regressor\n",
    "voter_reg = VotingRegressor(estimators = [('svm', svr_reg), \n",
    "                                           ('forest', forest_reg),\n",
    "                                           ('log', ridge_reg)])\n",
    "\n",
    "# Fit each model\n",
    "forestFit = forest_cv.fit(X_train, y_train)\n",
    "svrFit = svr_reg.fit(X_train, y_train)\n",
    "ridgeFit = ridge_reg.fit(X_train, y_train)\n",
    "voterFit = voter_reg.fit(X_train, y_train)\n",
    "\n",
    "# Generate predictions for each model\n",
    "forestPredTest = forestFit.predict(X_test)\n",
    "svrPredTest = svrFit.predict(X_test)\n",
    "ridgePredTest = ridgeFit.predict(X_test)\n",
    "voterPredTest = voterFit.predict(X_test)\n",
    "\n"
   ]
  },
  {
   "cell_type": "markdown",
   "metadata": {},
   "source": [
    "# Pull predicted values and true outcomes on test set "
   ]
  },
  {
   "cell_type": "code",
   "execution_count": 3,
   "metadata": {},
   "outputs": [],
   "source": [
    "# Make one data frame of predicted and actual values for test set\n",
    "predFrame = pd.DataFrame({\n",
    "    'Random Forest':forestPredTest,\n",
    "    'SVR':svrPredTest,\n",
    "    'Ridge':ridgePredTest,\n",
    "    'Ensemble': voterPredTest,\n",
    "    'SCARED-P True Values': y_test\n",
    "})"
   ]
  },
  {
   "cell_type": "code",
   "execution_count": 4,
   "metadata": {},
   "outputs": [
    {
     "data": {
      "text/html": [
       "<div>\n",
       "<style scoped>\n",
       "    .dataframe tbody tr th:only-of-type {\n",
       "        vertical-align: middle;\n",
       "    }\n",
       "\n",
       "    .dataframe tbody tr th {\n",
       "        vertical-align: top;\n",
       "    }\n",
       "\n",
       "    .dataframe thead th {\n",
       "        text-align: right;\n",
       "    }\n",
       "</style>\n",
       "<table border=\"1\" class=\"dataframe\">\n",
       "  <thead>\n",
       "    <tr style=\"text-align: right;\">\n",
       "      <th></th>\n",
       "      <th>Random Forest</th>\n",
       "      <th>SVR</th>\n",
       "      <th>Ridge</th>\n",
       "      <th>Ensemble</th>\n",
       "      <th>SCARED-P True Values</th>\n",
       "    </tr>\n",
       "  </thead>\n",
       "  <tbody>\n",
       "    <tr>\n",
       "      <td>1136</td>\n",
       "      <td>11.930039</td>\n",
       "      <td>9.255752</td>\n",
       "      <td>11.269672</td>\n",
       "      <td>10.908475</td>\n",
       "      <td>28.0</td>\n",
       "    </tr>\n",
       "    <tr>\n",
       "      <td>1122</td>\n",
       "      <td>11.886158</td>\n",
       "      <td>9.263247</td>\n",
       "      <td>10.760680</td>\n",
       "      <td>10.074642</td>\n",
       "      <td>2.0</td>\n",
       "    </tr>\n",
       "    <tr>\n",
       "      <td>477</td>\n",
       "      <td>11.930039</td>\n",
       "      <td>9.201577</td>\n",
       "      <td>11.345852</td>\n",
       "      <td>8.022476</td>\n",
       "      <td>35.0</td>\n",
       "    </tr>\n",
       "    <tr>\n",
       "      <td>1430</td>\n",
       "      <td>28.535692</td>\n",
       "      <td>21.069428</td>\n",
       "      <td>31.971234</td>\n",
       "      <td>33.526887</td>\n",
       "      <td>20.0</td>\n",
       "    </tr>\n",
       "    <tr>\n",
       "      <td>704</td>\n",
       "      <td>11.436276</td>\n",
       "      <td>10.074465</td>\n",
       "      <td>10.425848</td>\n",
       "      <td>11.933438</td>\n",
       "      <td>25.0</td>\n",
       "    </tr>\n",
       "  </tbody>\n",
       "</table>\n",
       "</div>"
      ],
      "text/plain": [
       "      Random Forest        SVR      Ridge   Ensemble  SCARED-P True Values\n",
       "1136      11.930039   9.255752  11.269672  10.908475                  28.0\n",
       "1122      11.886158   9.263247  10.760680  10.074642                   2.0\n",
       "477       11.930039   9.201577  11.345852   8.022476                  35.0\n",
       "1430      28.535692  21.069428  31.971234  33.526887                  20.0\n",
       "704       11.436276  10.074465  10.425848  11.933438                  25.0"
      ]
     },
     "execution_count": 4,
     "metadata": {},
     "output_type": "execute_result"
    }
   ],
   "source": [
    "predFrame.head()"
   ]
  },
  {
   "cell_type": "markdown",
   "metadata": {},
   "source": [
    "# Correlations among predictions across model types"
   ]
  },
  {
   "cell_type": "code",
   "execution_count": 5,
   "metadata": {},
   "outputs": [],
   "source": [
    "corMat = predFrame.corr()"
   ]
  },
  {
   "cell_type": "markdown",
   "metadata": {},
   "source": [
    "## Plot correlation matrix of predictions and actual values"
   ]
  },
  {
   "cell_type": "code",
   "execution_count": 6,
   "metadata": {},
   "outputs": [
    {
     "data": {
      "image/png": "[encoded data removed]",
      "text/plain": [
       "<Figure size 504x360 with 2 Axes>"
      ]
     },
     "metadata": {
      "needs_background": "light"
     },
     "output_type": "display_data"
    }
   ],
   "source": [
    "cmap = \"BrBG\"\n",
    "mask = np.zeros_like(corMat)\n",
    "mask[np.triu_indices_from(mask)] = True\n",
    "f, ax = plt.subplots(figsize=(7, 5))\n",
    "ax = sns.heatmap(corMat, mask=mask, cmap = cmap, annot = True, square=True)\n",
    "    \n",
    "fig = ax.get_figure()\n",
    "fig.savefig('../../plots/nonlinearCorrelations.png', dpi = 300, bbox_inches = 'tight', height = 8, width = 4)"
   ]
  }
 ],
 "metadata": {
  "kernelspec": {
   "display_name": "Python 3",
   "language": "python",
   "name": "python3"
  },
  "language_info": {
   "codemirror_mode": {
    "name": "ipython",
    "version": 3
   },
   "file_extension": ".py",
   "mimetype": "text/x-python",
   "name": "python",
   "nbconvert_exporter": "python",
   "pygments_lexer": "ipython3",
   "version": "3.7.4"
  }
 },
 "nbformat": 4,
 "nbformat_minor": 2
}
